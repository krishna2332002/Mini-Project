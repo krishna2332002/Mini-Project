{
  "nbformat": 4,
  "nbformat_minor": 0,
  "metadata": {
    "colab": {
      "provenance": [],
      "authorship_tag": "ABX9TyOiKY5HY74zT3yGNahPeoNT",
      "include_colab_link": true
    },
    "kernelspec": {
      "name": "python3",
      "display_name": "Python 3"
    },
    "language_info": {
      "name": "python"
    }
  },
  "cells": [
    {
      "cell_type": "markdown",
      "metadata": {
        "id": "view-in-github",
        "colab_type": "text"
      },
      "source": [
        "<a href=\"https://colab.research.google.com/github/krishna2332002/Mini-Project/blob/main/FgsmKrishna.ipynb\" target=\"_parent\"><img src=\"https://colab.research.google.com/assets/colab-badge.svg\" alt=\"Open In Colab\"/></a>"
      ]
    },
    {
      "cell_type": "code",
      "execution_count": 1,
      "metadata": {
        "id": "lXXFMTRlFBEa"
      },
      "outputs": [],
      "source": [
        "import os\n",
        "\n",
        "import numpy as np\n",
        "\n",
        "import matplotlib\n",
        "matplotlib.use('Agg')           # noqa: E402\n",
        "import matplotlib.pyplot as plt\n",
        "import matplotlib.gridspec as gridspec\n",
        "\n",
        "import tensorflow.compat.v1 as tf\n",
        "tf.compat.v1.disable_eager_execution()\n",
        "\n",
        "import time"
      ]
    },
    {
      "cell_type": "code",
      "source": [
        "def fgm(model, x, eps=0.01, epochs=1, sign=True, clip_min=0., clip_max=1.):\n",
        "    \"\"\"\n",
        "    Fast gradient method.\n",
        "    See https://arxiv.org/abs/1412.6572 and https://arxiv.org/abs/1607.02533\n",
        "    for details.  This implements the revised version since the original FGM\n",
        "    has label leaking problem (https://arxiv.org/abs/1611.01236).\n",
        "    :param model: A wrapper that returns the output as well as logits.\n",
        "    :param x: The input placeholder.\n",
        "    :param eps: The scale factor for noise.\n",
        "    :param epochs: The maximum epoch to run.\n",
        "    :param sign: Use gradient sign if True, otherwise use gradient value.\n",
        "    :param clip_min: The minimum value in output.\n",
        "    :param clip_max: The maximum value in output.\n",
        "    :return: A tensor, contains adversarial samples for each input.\n",
        "    \"\"\"\n",
        "    xadv = tf.identity(x)\n",
        "\n",
        "    ybar = model(xadv)\n",
        "    yshape = ybar.get_shape().as_list()\n",
        "    ydim = yshape[1]\n",
        "\n",
        "    indices = tf.argmax(ybar, axis=1)\n",
        "    target = tf.cond(\n",
        "        tf.equal(ydim, 1),\n",
        "        lambda: tf.nn.relu(tf.sign(ybar - 0.5)),\n",
        "        lambda: tf.one_hot(indices, ydim, on_value=1.0, off_value=0.0))\n",
        "\n",
        "    if 1 == ydim:\n",
        "        loss_fn = tf.nn.sigmoid_cross_entropy_with_logits\n",
        "    else:\n",
        "        loss_fn = tf.nn.softmax_cross_entropy_with_logits\n",
        "\n",
        "    if sign:\n",
        "        noise_fn = tf.sign\n",
        "    else:\n",
        "        noise_fn = tf.identity\n",
        "\n",
        "    eps = tf.abs(eps)\n",
        "\n",
        "    def _cond(xadv, i):\n",
        "        return tf.less(i, epochs)\n",
        "\n",
        "    def _body(xadv, i):\n",
        "        ybar, logits = model(xadv, logits=True)\n",
        "        loss = loss_fn(labels=target, logits=logits)\n",
        "        dy_dx, = tf.gradients(loss, xadv)\n",
        "        xadv = tf.stop_gradient(xadv + eps*noise_fn(dy_dx))\n",
        "        xadv = tf.clip_by_value(xadv, clip_min, clip_max)\n",
        "        return xadv, i+1\n",
        "\n",
        "    xadv, _ = tf.while_loop(_cond, _body, (xadv, 0), back_prop=False,\n",
        "                            name='fast_gradient')\n",
        "    return xadv\n",
        "def fgmt(model, x, y=None, eps=0.01, epochs=1, sign=True, clip_min=0.,\n",
        "         clip_max=1.):\n",
        "    \"\"\"\n",
        "    Fast gradient method with target\n",
        "    See https://arxiv.org/pdf/1607.02533.pdf.  This method is different from\n",
        "    FGM that instead of decreasing the probability for the correct label, it\n",
        "    increases the probability for the desired label.\n",
        "    :param model: A model that returns the output as well as logits.\n",
        "    :param x: The input placeholder.\n",
        "    :param y: The desired target label, set to the least-likely class if None.\n",
        "    :param eps: The noise scale factor.\n",
        "    :param epochs: Maximum epoch to run.\n",
        "    :param sign: Use gradient sign if True, otherwise gradient values.\n",
        "    :param clip_min: Minimum value in output.\n",
        "    :param clip_max: Maximum value in output.\n",
        "    \"\"\"\n",
        "    xadv = tf.identity(x)\n",
        "\n",
        "    ybar = model(xadv)\n",
        "    ydim = ybar.get_shape().as_list()[1]\n",
        "    n = tf.shape(ybar)[0]\n",
        "\n",
        "    if y is None:\n",
        "        indices = tf.argmin(ybar, axis=1)\n",
        "    else:\n",
        "        indices = tf.cond(tf.equal(0, tf.rank(y)),\n",
        "                          lambda: tf.zeros([n], dtype=tf.int32) + y,\n",
        "                          lambda: tf.zeros([n], dtype=tf.int32))\n",
        "    target = tf.cond(\n",
        "        tf.equal(ydim, 1),\n",
        "        lambda: 1 - ybar,\n",
        "        lambda: tf.one_hot(indices, ydim, on_value=1.0, off_value=0.0))\n",
        "\n",
        "    if 1 == ydim:\n",
        "        loss_fn = tf.nn.sigmoid_cross_entropy_with_logits\n",
        "    else:\n",
        "        loss_fn = tf.nn.softmax_cross_entropy_with_logits\n",
        "\n",
        "    if sign:\n",
        "        noise_fn = tf.sign\n",
        "    else:\n",
        "        noise_fn = tf.identity\n",
        "\n",
        "    eps = -tf.abs(eps)\n",
        "\n",
        "    def _cond(xadv, i):\n",
        "        return tf.less(i, epochs)\n",
        "\n",
        "    def _body(xadv, i):\n",
        "        ybar, logits = model(xadv, logits=True)\n",
        "        loss = loss_fn(labels=target, logits=logits)\n",
        "        dy_dx, = tf.gradients(loss, xadv)\n",
        "        xadv = tf.stop_gradient(xadv + eps*noise_fn(dy_dx))\n",
        "        xadv = tf.clip_by_value(xadv, clip_min, clip_max)\n",
        "        return xadv, i+1\n",
        "\n",
        "    xadv, _ = tf.while_loop(_cond, _body, (xadv, 0), back_prop=False,\n",
        "                            name='fast_gradient_target')\n",
        "    return xadv"
      ],
      "metadata": {
        "id": "SmC6Ni5PFPq9"
      },
      "execution_count": 2,
      "outputs": []
    },
    {
      "cell_type": "code",
      "source": [
        "img_size = 28\n",
        "img_chan = 1\n",
        "n_classes = 10\n",
        "maxTime = 0"
      ],
      "metadata": {
        "id": "Yu8VS8VxFjww"
      },
      "execution_count": 3,
      "outputs": []
    },
    {
      "cell_type": "code",
      "source": [
        "print('\\nLoading MNIST')\n",
        "\n",
        "mnist = tf.keras.datasets.mnist\n",
        "(X_train, y_train), (X_test, y_test) = mnist.load_data()\n",
        "X_train = np.reshape(X_train, [-1, img_size, img_size, img_chan])\n",
        "X_train = X_train.astype(np.float32) / 255\n",
        "X_test = np.reshape(X_test, [-1, img_size, img_size, img_chan])\n",
        "X_test = X_test.astype(np.float32) / 255\n",
        "\n",
        "to_categorical = tf.keras.utils.to_categorical\n",
        "y_train = to_categorical(y_train)\n",
        "y_test = to_categorical(y_test)"
      ],
      "metadata": {
        "colab": {
          "base_uri": "https://localhost:8080/"
        },
        "id": "gmWsc1XEFmsk",
        "outputId": "54fdabcc-aada-4be7-b0e2-4792a63f9000"
      },
      "execution_count": 4,
      "outputs": [
        {
          "output_type": "stream",
          "name": "stdout",
          "text": [
            "\n",
            "Loading MNIST\n",
            "Downloading data from https://storage.googleapis.com/tensorflow/tf-keras-datasets/mnist.npz\n",
            "11490434/11490434 [==============================] - 0s 0us/step\n"
          ]
        }
      ]
    },
    {
      "cell_type": "code",
      "source": [
        "print('\\nSpliting data')\n",
        "\n",
        "ind = np.random.permutation(X_train.shape[0])\n",
        "X_train, y_train = X_train[ind], y_train[ind]\n",
        "\n",
        "VALIDATION_SPLIT = 0.1\n",
        "n = int(X_train.shape[0] * (1-VALIDATION_SPLIT))\n",
        "X_valid = X_train[n:]\n",
        "X_train = X_train[:n]\n",
        "y_valid = y_train[n:]\n",
        "y_train = y_train[:n]\n",
        "\n",
        "print('\\nConstruction graph')"
      ],
      "metadata": {
        "colab": {
          "base_uri": "https://localhost:8080/"
        },
        "id": "YPs3P0diFtbZ",
        "outputId": "0f28166b-b0b2-488d-a60b-1181dbced521"
      },
      "execution_count": 5,
      "outputs": [
        {
          "output_type": "stream",
          "name": "stdout",
          "text": [
            "\n",
            "Spliting data\n",
            "\n",
            "Construction graph\n"
          ]
        }
      ]
    },
    {
      "cell_type": "code",
      "source": [
        "def model(x, logits=False, training=False):\n",
        "    with tf.variable_scope('conv0'):\n",
        "        z = tf.layers.conv2d(x, filters=32, kernel_size=[3, 3],\n",
        "                             padding='same', activation=tf.nn.relu)\n",
        "        z = tf.layers.max_pooling2d(z, pool_size=[2, 2], strides=2)\n",
        "\n",
        "    with tf.variable_scope('conv1'):\n",
        "        z = tf.layers.conv2d(z, filters=64, kernel_size=[3, 3],\n",
        "                             padding='same', activation=tf.nn.relu)\n",
        "        z = tf.layers.max_pooling2d(z, pool_size=[2, 2], strides=2)\n",
        "\n",
        "    with tf.variable_scope('flatten'):\n",
        "        shape = z.get_shape().as_list()\n",
        "        z = tf.reshape(z, [-1, np.prod(shape[1:])])\n",
        "\n",
        "    with tf.variable_scope('mlp'):\n",
        "        z = tf.layers.dense(z, units=128, activation=tf.nn.relu)\n",
        "        z = tf.layers.dropout(z, rate=0.25, training=training)\n",
        "\n",
        "    logits_ = tf.layers.dense(z, units=10, name='logits')\n",
        "    y = tf.nn.softmax(logits_, name='ybar')\n",
        "\n",
        "    if logits:\n",
        "        return y, logits_\n",
        "    return y"
      ],
      "metadata": {
        "id": "vCRCP6m9Fyaj"
      },
      "execution_count": 7,
      "outputs": []
    },
    {
      "cell_type": "code",
      "source": [
        "class Dummy:\n",
        "    pass\n",
        "\n",
        "\n",
        "env = Dummy()"
      ],
      "metadata": {
        "id": "aSvT94ilF1s8"
      },
      "execution_count": 8,
      "outputs": []
    },
    {
      "cell_type": "code",
      "source": [
        "with tf.variable_scope('model'):\n",
        "    env.x = tf.placeholder(tf.float32, (None, img_size, img_size, img_chan),\n",
        "                           name='x')\n",
        "    env.y = tf.placeholder(tf.float32, (None, n_classes), name='y')\n",
        "    env.training = tf.placeholder_with_default(False, (), name='mode')\n",
        "\n",
        "    env.ybar, logits = model(env.x, logits=True, training=env.training)\n",
        "\n",
        "    with tf.variable_scope('acc'):\n",
        "        count = tf.equal(tf.argmax(env.y, axis=1), tf.argmax(env.ybar, axis=1))\n",
        "        env.acc = tf.reduce_mean(tf.cast(count, tf.float32), name='acc')\n",
        "\n",
        "    with tf.variable_scope('loss'):\n",
        "        xent = tf.nn.softmax_cross_entropy_with_logits(labels=env.y,\n",
        "                                                       logits=logits)\n",
        "        env.loss = tf.reduce_mean(xent, name='loss')\n",
        "\n",
        "    with tf.variable_scope('train_op'):\n",
        "        optimizer = tf.train.AdamOptimizer()\n",
        "        env.train_op = optimizer.minimize(env.loss)\n",
        "\n",
        "    env.saver = tf.train.Saver()\n",
        "\n",
        "with tf.variable_scope('model', reuse=True):\n",
        "    env.fgsm_eps = tf.placeholder(tf.float32, (), name='fgsm_eps')\n",
        "    env.fgsm_epochs = tf.placeholder(tf.int32, (), name='fgsm_epochs')\n",
        "    env.x_fgsm = fgm(model, env.x, epochs=env.fgsm_epochs, eps=env.fgsm_eps)"
      ],
      "metadata": {
        "colab": {
          "base_uri": "https://localhost:8080/"
        },
        "id": "-9lGFkIUGDyD",
        "outputId": "44ba379b-e124-4902-bc91-616a2761a1af"
      },
      "execution_count": 9,
      "outputs": [
        {
          "output_type": "stream",
          "name": "stderr",
          "text": [
            "<ipython-input-7-05992fcfccee>:3: UserWarning: `tf.layers.conv2d` is deprecated and will be removed in a future version. Please Use `tf.keras.layers.Conv2D` instead.\n",
            "  z = tf.layers.conv2d(x, filters=32, kernel_size=[3, 3],\n",
            "<ipython-input-7-05992fcfccee>:5: UserWarning: `tf.layers.max_pooling2d` is deprecated and will be removed in a future version. Please use `tf.keras.layers.MaxPooling2D` instead.\n",
            "  z = tf.layers.max_pooling2d(z, pool_size=[2, 2], strides=2)\n",
            "<ipython-input-7-05992fcfccee>:8: UserWarning: `tf.layers.conv2d` is deprecated and will be removed in a future version. Please Use `tf.keras.layers.Conv2D` instead.\n",
            "  z = tf.layers.conv2d(z, filters=64, kernel_size=[3, 3],\n",
            "<ipython-input-7-05992fcfccee>:10: UserWarning: `tf.layers.max_pooling2d` is deprecated and will be removed in a future version. Please use `tf.keras.layers.MaxPooling2D` instead.\n",
            "  z = tf.layers.max_pooling2d(z, pool_size=[2, 2], strides=2)\n",
            "<ipython-input-7-05992fcfccee>:17: UserWarning: `tf.layers.dense` is deprecated and will be removed in a future version. Please use `tf.keras.layers.Dense` instead.\n",
            "  z = tf.layers.dense(z, units=128, activation=tf.nn.relu)\n",
            "<ipython-input-7-05992fcfccee>:18: UserWarning: `tf.layers.dropout` is deprecated and will be removed in a future version. Please use `tf.keras.layers.Dropout` instead.\n",
            "  z = tf.layers.dropout(z, rate=0.25, training=training)\n",
            "<ipython-input-7-05992fcfccee>:20: UserWarning: `tf.layers.dense` is deprecated and will be removed in a future version. Please use `tf.keras.layers.Dense` instead.\n",
            "  logits_ = tf.layers.dense(z, units=10, name='logits')\n",
            "WARNING:tensorflow:From /usr/local/lib/python3.9/dist-packages/tensorflow/python/util/dispatch.py:1176: softmax_cross_entropy_with_logits (from tensorflow.python.ops.nn_ops) is deprecated and will be removed in a future version.\n",
            "Instructions for updating:\n",
            "\n",
            "Future major versions of TensorFlow will allow gradients to flow\n",
            "into the labels input on backprop by default.\n",
            "\n",
            "See `tf.nn.softmax_cross_entropy_with_logits_v2`.\n",
            "\n"
          ]
        }
      ]
    },
    {
      "cell_type": "code",
      "source": [
        "print('\\nInitializing graph')\n",
        "\n",
        "sess = tf.InteractiveSession()\n",
        "sess.run(tf.global_variables_initializer())\n",
        "sess.run(tf.local_variables_initializer())"
      ],
      "metadata": {
        "colab": {
          "base_uri": "https://localhost:8080/"
        },
        "id": "2O-quxUvGIHG",
        "outputId": "56527c00-8f4b-4fd9-9c1c-3052d73be4ea"
      },
      "execution_count": 10,
      "outputs": [
        {
          "output_type": "stream",
          "name": "stdout",
          "text": [
            "\n",
            "Initializing graph\n"
          ]
        }
      ]
    },
    {
      "cell_type": "code",
      "source": [
        "def evaluate(sess, env, X_data, y_data, batch_size=128):\n",
        "    \"\"\"\n",
        "    Evaluate TF model by running env.loss and env.acc.\n",
        "    \"\"\"\n",
        "    print('\\nEvaluating')\n",
        "\n",
        "    n_sample = X_data.shape[0]\n",
        "    n_batch = int((n_sample+batch_size-1) / batch_size)\n",
        "    loss, acc = 0, 0\n",
        "\n",
        "    for batch in range(n_batch):\n",
        "        print(' batch {0}/{1}'.format(batch + 1, n_batch), end='\\r')\n",
        "        start = batch * batch_size\n",
        "        end = min(n_sample, start + batch_size)\n",
        "        cnt = end - start\n",
        "        batch_loss, batch_acc = sess.run(\n",
        "            [env.loss, env.acc],\n",
        "            feed_dict={env.x: X_data[start:end],\n",
        "                       env.y: y_data[start:end]})\n",
        "        loss += batch_loss * cnt\n",
        "        acc += batch_acc * cnt\n",
        "    loss /= n_sample\n",
        "    acc /= n_sample\n",
        "\n",
        "    print(' loss: {0:.4f} acc: {1:.4f}'.format(loss, acc))\n",
        "    return loss, acc"
      ],
      "metadata": {
        "id": "4JaGn-unGLlZ"
      },
      "execution_count": 11,
      "outputs": []
    },
    {
      "cell_type": "code",
      "source": [
        "def train(sess, env, X_data, y_data, X_valid=None, y_valid=None, epochs=1,\n",
        "          load=False, shuffle=True, batch_size=128, name='model'):\n",
        "    \"\"\"\n",
        "    Train a TF model by running env.train_op.\n",
        "    \"\"\"\n",
        "    if load:\n",
        "        if not hasattr(env, 'saver'):\n",
        "            return print('\\nError: cannot find saver op')\n",
        "        print('\\nLoading saved model')\n",
        "        return env.saver.restore(sess, 'model/{}'.format(name))\n",
        "\n",
        "    print('\\nTrain model')\n",
        "    n_sample = X_data.shape[0]\n",
        "    n_batch = int((n_sample+batch_size-1) / batch_size)\n",
        "    for epoch in range(epochs):\n",
        "        print('\\nEpoch {0}/{1}'.format(epoch + 1, epochs))\n",
        "\n",
        "        if shuffle:\n",
        "            print('\\nShuffling data')\n",
        "            ind = np.arange(n_sample)\n",
        "            np.random.shuffle(ind)\n",
        "            X_data = X_data[ind]\n",
        "            y_data = y_data[ind]\n",
        "\n",
        "        for batch in range(n_batch):\n",
        "            print(' batch {0}/{1}'.format(batch + 1, n_batch), end='\\r')\n",
        "            start = batch * batch_size\n",
        "            end = min(n_sample, start + batch_size)\n",
        "            sess.run(env.train_op, feed_dict={env.x: X_data[start:end],\n",
        "                                              env.y: y_data[start:end],\n",
        "                                              env.training: True})\n",
        "        if X_valid is not None:\n",
        "            evaluate(sess, env, X_valid, y_valid)\n",
        "\n",
        "    if hasattr(env, 'saver'):\n",
        "        print('\\n Saving model')\n",
        "        os.makedirs('model', exist_ok=True)\n",
        "        env.saver.save(sess, 'model/{}'.format(name))"
      ],
      "metadata": {
        "id": "4kbDXl1jGNgx"
      },
      "execution_count": 12,
      "outputs": []
    },
    {
      "cell_type": "code",
      "source": [
        "def predict(sess, env, X_data, batch_size=128):\n",
        "    \"\"\"\n",
        "    Do inference by running env.ybar.\n",
        "    \"\"\"\n",
        "    print('\\nPredicting')\n",
        "    n_classes = env.ybar.get_shape().as_list()[1]\n",
        "\n",
        "    n_sample = X_data.shape[0]\n",
        "    n_batch = int((n_sample+batch_size-1) / batch_size)\n",
        "    yval = np.empty((n_sample, n_classes))\n",
        "\n",
        "    for batch in range(n_batch):\n",
        "        print(' batch {0}/{1}'.format(batch + 1, n_batch), end='\\r')\n",
        "        start = batch * batch_size\n",
        "        end = min(n_sample, start + batch_size)\n",
        "        y_batch = sess.run(env.ybar, feed_dict={env.x: X_data[start:end]})\n",
        "        yval[start:end] = y_batch\n",
        "    print()\n",
        "    return yval"
      ],
      "metadata": {
        "id": "tpJKrtcJGTLj"
      },
      "execution_count": 13,
      "outputs": []
    },
    {
      "cell_type": "code",
      "source": [
        "def make_fgsm(sess, env, X_data, epochs=1, eps=0.01, batch_size=128):\n",
        "    \"\"\"\n",
        "    Generate FGSM by running env.x_fgsm.\n",
        "    \"\"\"\n",
        "    print('\\nMaking adversarials via FGSM')\n",
        "\n",
        "    n_sample = X_data.shape[0]\n",
        "    n_batch = int((n_sample + batch_size - 1) / batch_size)\n",
        "    X_adv = np.empty_like(X_data)\n",
        "\n",
        "    for batch in range(n_batch):\n",
        "        print(' batch {0}/{1}'.format(batch + 1, n_batch), end='\\r')\n",
        "        start = batch * batch_size\n",
        "        end = min(n_sample, start + batch_size)\n",
        "        adv = sess.run(env.x_fgsm, feed_dict={\n",
        "            env.x: X_data[start:end],\n",
        "            env.fgsm_eps: eps,\n",
        "            env.fgsm_epochs: epochs})\n",
        "        X_adv[start:end] = adv\n",
        "    print()\n",
        "\n",
        "    return X_adv\n"
      ],
      "metadata": {
        "id": "T3-fFH6iGY8e"
      },
      "execution_count": 14,
      "outputs": []
    },
    {
      "cell_type": "code",
      "source": [
        "print('\\nTraining')\n",
        "start = time.time()\n",
        "train(sess, env, X_train, y_train, X_valid, y_valid, load=False, epochs=5,\n",
        "      name='mnist')\n",
        "print(\"\\nTime taken to train data : \", time.time() - start, \"seconds\")"
      ],
      "metadata": {
        "colab": {
          "base_uri": "https://localhost:8080/"
        },
        "id": "fbGOhEVuGcCG",
        "outputId": "0dce51ef-4beb-44b7-c325-275cab365a74"
      },
      "execution_count": 15,
      "outputs": [
        {
          "output_type": "stream",
          "name": "stdout",
          "text": [
            "\n",
            "Training\n",
            "\n",
            "Train model\n",
            "\n",
            "Epoch 1/5\n",
            "\n",
            "Shuffling data\n",
            "\n",
            "Evaluating\n",
            " loss: 0.0761 acc: 0.9756\n",
            "\n",
            "Epoch 2/5\n",
            "\n",
            "Shuffling data\n",
            "\n",
            "Evaluating\n",
            " loss: 0.0467 acc: 0.9850\n",
            "\n",
            "Epoch 3/5\n",
            "\n",
            "Shuffling data\n",
            "\n",
            "Evaluating\n",
            " loss: 0.0389 acc: 0.9876\n",
            "\n",
            "Epoch 4/5\n",
            "\n",
            "Shuffling data\n",
            "\n",
            "Evaluating\n",
            " loss: 0.0321 acc: 0.9898\n",
            "\n",
            "Epoch 5/5\n",
            "\n",
            "Shuffling data\n",
            "\n",
            "Evaluating\n",
            " loss: 0.0352 acc: 0.9893\n",
            "\n",
            " Saving model\n",
            "\n",
            "Time taken to train data :  328.57668948173523 seconds\n"
          ]
        }
      ]
    },
    {
      "cell_type": "code",
      "source": [
        "print('\\nEvaluating on clean data')\n",
        "start = time.time()\n",
        "evaluate(sess, env, X_test, y_test)\n",
        "print(\"\\nTime taken to evaluate on clean data : \", time.time() - start, \"seconds\")"
      ],
      "metadata": {
        "colab": {
          "base_uri": "https://localhost:8080/"
        },
        "id": "6hxqacLXIHoG",
        "outputId": "d1488cf1-00f1-4f12-efa4-57e5b8cd0c69"
      },
      "execution_count": 16,
      "outputs": [
        {
          "output_type": "stream",
          "name": "stdout",
          "text": [
            "\n",
            "Evaluating on clean data\n",
            "\n",
            "Evaluating\n",
            " loss: 0.0296 acc: 0.9889\n",
            "\n",
            "Time taken to evaluate on clean data :  4.355363845825195 seconds\n"
          ]
        }
      ]
    },
    {
      "cell_type": "code",
      "source": [
        "print('\\nGenerating adversarial data')\n",
        "start = time.time()\n",
        "X_adv = make_fgsm(sess, env, X_test, eps=0.01, epochs=12)\n",
        "print(\"\\nTime taken to generate adversarial data\", time.time() - start, \"seconds\")"
      ],
      "metadata": {
        "colab": {
          "base_uri": "https://localhost:8080/"
        },
        "id": "A8Qj_qhKINU4",
        "outputId": "715b9036-5e05-4699-b25a-c54608b77f43"
      },
      "execution_count": 17,
      "outputs": [
        {
          "output_type": "stream",
          "name": "stdout",
          "text": [
            "\n",
            "Generating adversarial data\n",
            "\n",
            "Making adversarials via FGSM\n",
            "\n",
            "\n",
            "Time taken to generate adversarial data 157.60528254508972 seconds\n"
          ]
        }
      ]
    },
    {
      "cell_type": "code",
      "source": [
        "print('\\nEvaluating on adversarial data')\n",
        "start = time.time()\n",
        "evaluate(sess, env, X_adv, y_test)\n",
        "print(\"\\nTime taken to evaluate on adversarial data\", time.time() - start, \"seconds\")"
      ],
      "metadata": {
        "colab": {
          "base_uri": "https://localhost:8080/"
        },
        "id": "SAoX-JP-IPf-",
        "outputId": "7465dc10-6bbd-4c42-f5c5-9c0fe17f6004"
      },
      "execution_count": 18,
      "outputs": [
        {
          "output_type": "stream",
          "name": "stdout",
          "text": [
            "\n",
            "Evaluating on adversarial data\n",
            "\n",
            "Evaluating\n",
            " loss: 1.4117 acc: 0.5903\n",
            "\n",
            "Time taken to evaluate on adversarial data 3.2446303367614746 seconds\n"
          ]
        }
      ]
    },
    {
      "cell_type": "code",
      "source": [
        "print('\\nRandomly sample adversarial data from each category')\n",
        "\n",
        "y1 = predict(sess, env, X_test)\n",
        "y2 = predict(sess, env, X_adv)\n",
        "\n",
        "z0 = np.argmax(y_test, axis=1)\n",
        "z1 = np.argmax(y1, axis=1)\n",
        "z2 = np.argmax(y2, axis=1)\n"
      ],
      "metadata": {
        "colab": {
          "base_uri": "https://localhost:8080/"
        },
        "id": "Kegj2dF1XWFv",
        "outputId": "a42eb070-36b7-4857-cf04-f81abce524d5"
      },
      "execution_count": 19,
      "outputs": [
        {
          "output_type": "stream",
          "name": "stdout",
          "text": [
            "\n",
            "Randomly sample adversarial data from each category\n",
            "\n",
            "Predicting\n",
            " batch 79/79\n",
            "\n",
            "Predicting\n",
            " batch 79/79\n"
          ]
        }
      ]
    },
    {
      "cell_type": "code",
      "source": [
        "# X_tmp = np.empty((10, 28, 28))\n",
        "# y_tmp = np.empty((10, 10))\n",
        "# for i in range(10):\n",
        "#     print('Target {0}'.format(i))\n",
        "#     ind, = np.where(np.all([z0 == i, z1 == i, z2 != i], axis=0))\n",
        "#     cur = np.random.choice(ind)\n",
        "#     X_org = np.squeeze(X_test[cur])\n",
        "#     X_tmp[i] = np.squeeze(X_adv[cur])\n",
        "#     y_tmp[i] = y2[cur]\n",
        "\n",
        "ind = np.logical_and(z0 == z1, z1 != z2)\n",
        "# print('success: ', np.sum(ind))\n",
        "\n",
        "ind = z0 == z1\n",
        "\n",
        "X_test = X_test[ind]\n",
        "X_adv = X_adv[ind]\n",
        "z1 = z1[ind]\n",
        "z2 = z2[ind]\n",
        "y2 = y2[ind]\n",
        "\n",
        "ind, = np.where(z1 != z2)\n",
        "cur = np.random.choice(ind, size=n_classes)\n",
        "X_org = np.squeeze(X_test[cur])\n",
        "X_tmp = np.squeeze(X_adv[cur])\n",
        "y_tmp = y2[cur]"
      ],
      "metadata": {
        "id": "5gzUVKlCXmpo"
      },
      "execution_count": 20,
      "outputs": []
    },
    {
      "cell_type": "code",
      "source": [
        "print(z1,len(z1))\n",
        "print(z2,len(z2))\n",
        "print(z0,len(z0))"
      ],
      "metadata": {
        "colab": {
          "base_uri": "https://localhost:8080/"
        },
        "id": "8slgouIsXsYx",
        "outputId": "623a0ba1-e7e0-49cb-bfb7-0e99c7fc8392"
      },
      "execution_count": 21,
      "outputs": [
        {
          "output_type": "stream",
          "name": "stdout",
          "text": [
            "[7 2 1 ... 4 5 6] 9889\n",
            "[7 2 1 ... 4 5 6] 9889\n",
            "[7 2 1 ... 4 5 6] 10000\n"
          ]
        }
      ]
    },
    {
      "cell_type": "code",
      "source": [
        "print('\\nPlotting results')\n",
        "\n",
        "fig = plt.figure(figsize=(10, 2.2))\n",
        "gs = gridspec.GridSpec(2, 10, wspace=0.05, hspace=0.05)\n",
        "\n",
        "label = np.argmax(y_tmp, axis=1)\n",
        "proba = np.max(y_tmp, axis=1)\n",
        "for i in range(10):\n",
        "  ax = fig.add_subplot(gs[0, i])\n",
        "  ax.imshow(X_org[i], cmap='gray', interpolation='none')\n",
        "  ax.set_xticks([])\n",
        "  ax.set_yticks([])\n",
        "\n",
        "  ax = fig.add_subplot(gs[1, i])\n",
        "  ax.imshow(X_tmp[i], cmap='gray', interpolation='none')\n",
        "  ax.set_xticks([])\n",
        "  ax.set_yticks([])\n",
        "\n",
        "  ax.set_xlabel('{0} ({1:.2f})'.format(label[i], proba[i]), fontsize=12)\n",
        "\n",
        "print('\\nSaving figure')\n",
        "\n",
        "gs.tight_layout(fig)\n",
        "os.makedirs('img', exist_ok=True)\n",
        "plt.savefig('img/fgsm_mnist.png')\n",
        "\n",
        "from IPython.display import Image\n",
        "Image('img/fgsm_mnist.png')"
      ],
      "metadata": {
        "colab": {
          "base_uri": "https://localhost:8080/",
          "height": 306
        },
        "id": "IeWryUOkXwNe",
        "outputId": "9c75c226-2a82-46dc-c600-9a10997a25c2"
      },
      "execution_count": 22,
      "outputs": [
        {
          "output_type": "stream",
          "name": "stdout",
          "text": [
            "\n",
            "Plotting results\n",
            "\n",
            "Saving figure\n"
          ]
        },
        {
          "output_type": "execute_result",
          "data": {
            "image/png": "[encoded data removed]",
            "text/plain": [
              "<IPython.core.display.Image object>"
            ]
          },
          "metadata": {},
          "execution_count": 22
        }
      ]
    },
    {
      "cell_type": "code",
      "source": [
        "print('Org image', len(X_org))\n",
        "print('Adv image', len(X_tmp))\n",
        "print('Adv image', len(X_adv))"
      ],
      "metadata": {
        "colab": {
          "base_uri": "https://localhost:8080/"
        },
        "id": "drfZ_-zZX2vK",
        "outputId": "bb390bb4-dbb0-47dd-d8d3-50b48a84ff22"
      },
      "execution_count": 23,
      "outputs": [
        {
          "output_type": "stream",
          "name": "stdout",
          "text": [
            "Org image 10\n",
            "Adv image 10\n",
            "Adv image 9889\n"
          ]
        }
      ]
    },
    {
      "cell_type": "code",
      "source": [
        "print(y2)\n",
        "print(y_tmp)"
      ],
      "metadata": {
        "colab": {
          "base_uri": "https://localhost:8080/"
        },
        "id": "3F0rh-2lX5-W",
        "outputId": "892d30ac-bd77-4bf9-fe4c-d7f078fd0b1b"
      },
      "execution_count": 24,
      "outputs": [
        {
          "output_type": "stream",
          "name": "stdout",
          "text": [
            "[[8.94922414e-06 2.81956159e-06 2.64290084e-05 ... 4.93196994e-01\n",
            "  3.35768331e-03 4.22963977e-01]\n",
            " [1.30644199e-04 2.30516642e-01 7.68513739e-01 ... 5.27491977e-07\n",
            "  2.60259549e-05 2.74378654e-05]\n",
            " [7.37523224e-05 6.83094800e-01 7.71818333e-04 ... 3.44762839e-02\n",
            "  1.48331909e-03 6.23695727e-04]\n",
            " ...\n",
            " [2.90350158e-06 2.82227615e-04 2.05010423e-07 ... 1.02664635e-05\n",
            "  1.85910352e-02 3.28800612e-04]\n",
            " [7.19455202e-05 1.03027912e-06 2.26886004e-06 ... 4.72841947e-07\n",
            "  1.12404056e-01 1.16994806e-06]\n",
            " [2.09737591e-05 3.19227802e-05 5.92529948e-04 ... 5.16831960e-06\n",
            "  1.18614361e-03 2.36705655e-05]]\n",
            "[[5.55415909e-07 6.30523047e-08 3.47881019e-02 9.65114474e-01\n",
            "  1.89387683e-09 4.50843208e-06 9.52624424e-10 9.75071180e-06\n",
            "  2.50442299e-05 5.73278485e-05]\n",
            " [2.48961101e-08 1.13363427e-07 2.67054379e-09 9.95978057e-01\n",
            "  1.26882398e-08 3.95066245e-03 1.37532925e-06 2.27659935e-09\n",
            "  2.26572411e-07 6.95550043e-05]\n",
            " [6.19196570e-08 7.19517004e-07 8.93555409e-07 4.18770014e-06\n",
            "  1.31078480e-06 8.92015278e-01 1.07934214e-01 7.99841260e-09\n",
            "  4.25410763e-05 8.69778319e-07]\n",
            " [3.72194518e-05 4.80793155e-04 1.55713920e-07 6.85528910e-04\n",
            "  4.12205607e-02 9.41188514e-01 5.85524889e-04 2.21060782e-05\n",
            "  3.27581482e-04 1.54518969e-02]\n",
            " [4.16070955e-09 1.70571912e-09 5.73932653e-07 9.50037539e-01\n",
            "  2.30327094e-11 8.16558725e-07 3.04298942e-09 5.41447109e-09\n",
            "  4.99575064e-02 3.46270281e-06]\n",
            " [1.47107755e-07 1.63576956e-07 3.23574284e-07 9.99354541e-01\n",
            "  5.42477174e-08 6.04628527e-04 5.22796917e-08 5.28284716e-07\n",
            "  2.88984083e-05 1.06011121e-05]\n",
            " [3.55226177e-07 1.12113385e-05 9.91804898e-01 8.13617987e-07\n",
            "  4.11698602e-06 3.77679271e-07 1.56331770e-09 1.80171453e-04\n",
            "  7.99794681e-03 1.08448512e-08]\n",
            " [1.77960118e-07 3.21207540e-06 5.87755665e-07 4.53112671e-06\n",
            "  9.27036762e-01 4.04466800e-06 3.74882738e-08 2.14811123e-04\n",
            "  1.18977914e-04 7.26168081e-02]\n",
            " [4.45252596e-07 1.86885281e-05 4.59291133e-10 2.22330036e-05\n",
            "  1.55990507e-04 9.72846866e-01 4.30019609e-05 6.30207850e-08\n",
            "  4.47624079e-05 2.68678870e-02]\n",
            " [4.87262941e-09 1.86399939e-06 1.90238651e-08 2.26195898e-05\n",
            "  2.39827114e-06 9.85730052e-01 1.47290062e-04 1.17897116e-06\n",
            "  1.40789393e-02 1.55326707e-05]]\n"
          ]
        }
      ]
    },
    {
      "cell_type": "code",
      "source": [
        "print(label)\n",
        "print(proba)"
      ],
      "metadata": {
        "colab": {
          "base_uri": "https://localhost:8080/"
        },
        "id": "CgVbH-rIX9Ra",
        "outputId": "3d05c39b-7696-48f9-da7c-2341a3319964"
      },
      "execution_count": 25,
      "outputs": [
        {
          "output_type": "stream",
          "name": "stdout",
          "text": [
            "[3 3 5 5 3 3 2 4 5 5]\n",
            "[0.96511447 0.99597806 0.89201528 0.94118851 0.95003754 0.99935454\n",
            " 0.9918049  0.92703676 0.97284687 0.98573005]\n"
          ]
        }
      ]
    },
    {
      "cell_type": "code",
      "source": [
        "print(y_test)\n",
        "label_org = np.argmax(y_test, axis=1)\n",
        "print(label_org)\n",
        "print(len(label_org))"
      ],
      "metadata": {
        "colab": {
          "base_uri": "https://localhost:8080/"
        },
        "id": "nh5KAtbxYAim",
        "outputId": "82fec28b-e7ee-42aa-83ba-3b714498a8d4"
      },
      "execution_count": 26,
      "outputs": [
        {
          "output_type": "stream",
          "name": "stdout",
          "text": [
            "[[0. 0. 0. ... 1. 0. 0.]\n",
            " [0. 0. 1. ... 0. 0. 0.]\n",
            " [0. 1. 0. ... 0. 0. 0.]\n",
            " ...\n",
            " [0. 0. 0. ... 0. 0. 0.]\n",
            " [0. 0. 0. ... 0. 0. 0.]\n",
            " [0. 0. 0. ... 0. 0. 0.]]\n",
            "[7 2 1 ... 4 5 6]\n",
            "10000\n"
          ]
        }
      ]
    },
    {
      "cell_type": "code",
      "source": [
        "import pickle\n",
        "\n",
        "db = {}\n",
        "db['x_adv'] = X_adv\n",
        "db['label'] = z1\n",
        "db['x_org'] = X_org\n",
        "db['prob'] = proba\n",
        "\n",
        "# Its important to use binary mode\n",
        "dbfile = open('fgsm.pkl', 'ab')\n",
        "      \n",
        "# source, destination\n",
        "pickle.dump(db, dbfile)                     \n",
        "dbfile.close()"
      ],
      "metadata": {
        "id": "bsTn9TVuYD8g"
      },
      "execution_count": 27,
      "outputs": []
    }
  ]
}